{
 "cells": [
  {
   "cell_type": "markdown",
   "id": "2d00686b",
   "metadata": {},
   "source": [
    "# Pinjaman Online Model Training\n",
    "This notebook trains models to predict:\n",
    "- Kemampuan Bayar (Classification)\n",
    "- Total Pinjaman Disetujui (Regression)\n",
    "- Lama Pinjaman (Regression)"
   ]
  },
  {
   "cell_type": "markdown",
   "id": "1761360e",
   "metadata": {},
   "source": [
    "##### LOAD DATASET"
   ]
  },
  {
   "cell_type": "code",
   "execution_count": 2,
   "id": "c2fa506a",
   "metadata": {},
   "outputs": [
    {
     "data": {
      "text/html": [
       "<div>\n",
       "<style scoped>\n",
       "    .dataframe tbody tr th:only-of-type {\n",
       "        vertical-align: middle;\n",
       "    }\n",
       "\n",
       "    .dataframe tbody tr th {\n",
       "        vertical-align: top;\n",
       "    }\n",
       "\n",
       "    .dataframe thead th {\n",
       "        text-align: right;\n",
       "    }\n",
       "</style>\n",
       "<table border=\"1\" class=\"dataframe\">\n",
       "  <thead>\n",
       "    <tr style=\"text-align: right;\">\n",
       "      <th></th>\n",
       "      <th>name</th>\n",
       "      <th>age</th>\n",
       "      <th>salary</th>\n",
       "      <th>tgl_pinjam</th>\n",
       "      <th>tgl_gajian</th>\n",
       "      <th>pengajuan_pinjaman</th>\n",
       "      <th>kemampuan_bayar</th>\n",
       "      <th>total_pinjaman_disetujui</th>\n",
       "      <th>lama_pinjaman</th>\n",
       "    </tr>\n",
       "  </thead>\n",
       "  <tbody>\n",
       "    <tr>\n",
       "      <th>0</th>\n",
       "      <td>Intan</td>\n",
       "      <td>32</td>\n",
       "      <td>10366097</td>\n",
       "      <td>2025-01-11</td>\n",
       "      <td>2025-01-19</td>\n",
       "      <td>7040178</td>\n",
       "      <td>0</td>\n",
       "      <td>3520089</td>\n",
       "      <td>9</td>\n",
       "    </tr>\n",
       "    <tr>\n",
       "      <th>1</th>\n",
       "      <td>Dedi</td>\n",
       "      <td>30</td>\n",
       "      <td>12361781</td>\n",
       "      <td>2025-01-24</td>\n",
       "      <td>2025-01-16</td>\n",
       "      <td>2986055</td>\n",
       "      <td>1</td>\n",
       "      <td>2986055</td>\n",
       "      <td>12</td>\n",
       "    </tr>\n",
       "    <tr>\n",
       "      <th>2</th>\n",
       "      <td>Joko</td>\n",
       "      <td>54</td>\n",
       "      <td>12563752</td>\n",
       "      <td>2025-02-18</td>\n",
       "      <td>2025-01-07</td>\n",
       "      <td>8004943</td>\n",
       "      <td>0</td>\n",
       "      <td>4002471</td>\n",
       "      <td>6</td>\n",
       "    </tr>\n",
       "    <tr>\n",
       "      <th>3</th>\n",
       "      <td>Joko</td>\n",
       "      <td>27</td>\n",
       "      <td>10548153</td>\n",
       "      <td>2025-01-08</td>\n",
       "      <td>2025-01-09</td>\n",
       "      <td>9053767</td>\n",
       "      <td>0</td>\n",
       "      <td>4526883</td>\n",
       "      <td>6</td>\n",
       "    </tr>\n",
       "    <tr>\n",
       "      <th>4</th>\n",
       "      <td>Citra</td>\n",
       "      <td>46</td>\n",
       "      <td>13270028</td>\n",
       "      <td>2025-02-16</td>\n",
       "      <td>2025-01-10</td>\n",
       "      <td>2199889</td>\n",
       "      <td>1</td>\n",
       "      <td>2199889</td>\n",
       "      <td>3</td>\n",
       "    </tr>\n",
       "  </tbody>\n",
       "</table>\n",
       "</div>"
      ],
      "text/plain": [
       "    name  age    salary  tgl_pinjam  tgl_gajian  pengajuan_pinjaman  \\\n",
       "0  Intan   32  10366097  2025-01-11  2025-01-19             7040178   \n",
       "1   Dedi   30  12361781  2025-01-24  2025-01-16             2986055   \n",
       "2   Joko   54  12563752  2025-02-18  2025-01-07             8004943   \n",
       "3   Joko   27  10548153  2025-01-08  2025-01-09             9053767   \n",
       "4  Citra   46  13270028  2025-02-16  2025-01-10             2199889   \n",
       "\n",
       "   kemampuan_bayar  total_pinjaman_disetujui  lama_pinjaman  \n",
       "0                0                   3520089              9  \n",
       "1                1                   2986055             12  \n",
       "2                0                   4002471              6  \n",
       "3                0                   4526883              6  \n",
       "4                1                   2199889              3  "
      ]
     },
     "execution_count": 2,
     "metadata": {},
     "output_type": "execute_result"
    }
   ],
   "source": [
    "import pandas as pd\n",
    "\n",
    "# Load dataset\n",
    "df = pd.read_csv(\"pinjaman_online_dataset.csv\")\n",
    "df.head()\n"
   ]
  },
  {
   "cell_type": "markdown",
   "id": "5f720aff",
   "metadata": {},
   "source": [
    "##### CLEANSING DATASET"
   ]
  },
  {
   "cell_type": "code",
   "execution_count": 3,
   "id": "97a94e14",
   "metadata": {},
   "outputs": [
    {
     "data": {
      "text/html": [
       "<div>\n",
       "<style scoped>\n",
       "    .dataframe tbody tr th:only-of-type {\n",
       "        vertical-align: middle;\n",
       "    }\n",
       "\n",
       "    .dataframe tbody tr th {\n",
       "        vertical-align: top;\n",
       "    }\n",
       "\n",
       "    .dataframe thead th {\n",
       "        text-align: right;\n",
       "    }\n",
       "</style>\n",
       "<table border=\"1\" class=\"dataframe\">\n",
       "  <thead>\n",
       "    <tr style=\"text-align: right;\">\n",
       "      <th></th>\n",
       "      <th>age</th>\n",
       "      <th>salary</th>\n",
       "      <th>pengajuan_pinjaman</th>\n",
       "      <th>kemampuan_bayar</th>\n",
       "      <th>total_pinjaman_disetujui</th>\n",
       "      <th>lama_pinjaman</th>\n",
       "      <th>days_since_gajian</th>\n",
       "      <th>loan_to_salary_ratio</th>\n",
       "    </tr>\n",
       "  </thead>\n",
       "  <tbody>\n",
       "    <tr>\n",
       "      <th>0</th>\n",
       "      <td>32</td>\n",
       "      <td>10366097</td>\n",
       "      <td>7040178</td>\n",
       "      <td>0</td>\n",
       "      <td>3520089</td>\n",
       "      <td>9</td>\n",
       "      <td>-8</td>\n",
       "      <td>0.679154</td>\n",
       "    </tr>\n",
       "    <tr>\n",
       "      <th>1</th>\n",
       "      <td>30</td>\n",
       "      <td>12361781</td>\n",
       "      <td>2986055</td>\n",
       "      <td>1</td>\n",
       "      <td>2986055</td>\n",
       "      <td>12</td>\n",
       "      <td>8</td>\n",
       "      <td>0.241555</td>\n",
       "    </tr>\n",
       "    <tr>\n",
       "      <th>2</th>\n",
       "      <td>54</td>\n",
       "      <td>12563752</td>\n",
       "      <td>8004943</td>\n",
       "      <td>0</td>\n",
       "      <td>4002471</td>\n",
       "      <td>6</td>\n",
       "      <td>42</td>\n",
       "      <td>0.637146</td>\n",
       "    </tr>\n",
       "    <tr>\n",
       "      <th>3</th>\n",
       "      <td>27</td>\n",
       "      <td>10548153</td>\n",
       "      <td>9053767</td>\n",
       "      <td>0</td>\n",
       "      <td>4526883</td>\n",
       "      <td>6</td>\n",
       "      <td>-1</td>\n",
       "      <td>0.858327</td>\n",
       "    </tr>\n",
       "    <tr>\n",
       "      <th>4</th>\n",
       "      <td>46</td>\n",
       "      <td>13270028</td>\n",
       "      <td>2199889</td>\n",
       "      <td>1</td>\n",
       "      <td>2199889</td>\n",
       "      <td>3</td>\n",
       "      <td>37</td>\n",
       "      <td>0.165779</td>\n",
       "    </tr>\n",
       "  </tbody>\n",
       "</table>\n",
       "</div>"
      ],
      "text/plain": [
       "   age    salary  pengajuan_pinjaman  kemampuan_bayar  \\\n",
       "0   32  10366097             7040178                0   \n",
       "1   30  12361781             2986055                1   \n",
       "2   54  12563752             8004943                0   \n",
       "3   27  10548153             9053767                0   \n",
       "4   46  13270028             2199889                1   \n",
       "\n",
       "   total_pinjaman_disetujui  lama_pinjaman  days_since_gajian  \\\n",
       "0                   3520089              9                 -8   \n",
       "1                   2986055             12                  8   \n",
       "2                   4002471              6                 42   \n",
       "3                   4526883              6                 -1   \n",
       "4                   2199889              3                 37   \n",
       "\n",
       "   loan_to_salary_ratio  \n",
       "0              0.679154  \n",
       "1              0.241555  \n",
       "2              0.637146  \n",
       "3              0.858327  \n",
       "4              0.165779  "
      ]
     },
     "execution_count": 3,
     "metadata": {},
     "output_type": "execute_result"
    }
   ],
   "source": [
    "df[\"tgl_pinjam\"] = pd.to_datetime(df[\"tgl_pinjam\"])\n",
    "df[\"tgl_gajian\"] = pd.to_datetime(df[\"tgl_gajian\"])\n",
    "\n",
    "# Days between gajian and pinjam\n",
    "df[\"days_since_gajian\"] = (df[\"tgl_pinjam\"] - df[\"tgl_gajian\"]).dt.days\n",
    "\n",
    "# Ratio of loan to salary\n",
    "df[\"loan_to_salary_ratio\"] = df[\"pengajuan_pinjaman\"] / df[\"salary\"]\n",
    "\n",
    "# Drop unused columns\n",
    "df = df.drop(columns=[\"name\", \"tgl_pinjam\", \"tgl_gajian\"])\n",
    "df.head()"
   ]
  },
  {
   "cell_type": "markdown",
   "id": "aa86f029",
   "metadata": {},
   "source": [
    "##### TRAINING DATASET"
   ]
  },
  {
   "cell_type": "code",
   "execution_count": 9,
   "id": "e2887151",
   "metadata": {},
   "outputs": [],
   "source": [
    "from sklearn.model_selection import train_test_split\n",
    "\n",
    "X = df.drop(columns=[\"kemampuan_bayar\", \"total_pinjaman_disetujui\", \"lama_pinjaman\"])\n",
    "y_class = df[\"kemampuan_bayar\"]\n",
    "y_reg_total = df[\"total_pinjaman_disetujui\"]\n",
    "y_reg_lama = df[\"lama_pinjaman\"]\n",
    "\n",
    "X_train, X_test, y_train_class, y_test_class = train_test_split(X, y_class, test_size=0.2, random_state=42)\n",
    "_, _, y_train_total, y_test_total = train_test_split(X, y_reg_total, test_size=0.2, random_state=42)\n",
    "_, _, y_train_lama, y_test_lama = train_test_split(X, y_reg_lama, test_size=0.2, random_state=42)"
   ]
  },
  {
   "cell_type": "markdown",
   "id": "5c8f92a3",
   "metadata": {},
   "source": [
    "##### Classification Model (KEMAMPUAN BAYAR)"
   ]
  },
  {
   "cell_type": "code",
   "execution_count": 8,
   "id": "ded816e3",
   "metadata": {},
   "outputs": [
    {
     "name": "stdout",
     "output_type": "stream",
     "text": [
      "              precision    recall  f1-score   support\n",
      "\n",
      "           0       1.00      1.00      1.00         7\n",
      "           1       1.00      1.00      1.00        13\n",
      "\n",
      "    accuracy                           1.00        20\n",
      "   macro avg       1.00      1.00      1.00        20\n",
      "weighted avg       1.00      1.00      1.00        20\n",
      "\n"
     ]
    }
   ],
   "source": [
    "from sklearn.ensemble import RandomForestClassifier\n",
    "from sklearn.metrics import classification_report\n",
    "\n",
    "clf = RandomForestClassifier()\n",
    "clf.fit(X_train, y_train_class)\n",
    "y_pred_class = clf.predict(X_test)\n",
    "print(classification_report(y_test_class, y_pred_class))\n"
   ]
  },
  {
   "cell_type": "markdown",
   "id": "2be298a7",
   "metadata": {},
   "source": [
    "##### Regression Model (TOTAL PINJAMAN)\n"
   ]
  },
  {
   "cell_type": "code",
   "execution_count": 5,
   "id": "03c91b09",
   "metadata": {},
   "outputs": [
    {
     "name": "stdout",
     "output_type": "stream",
     "text": [
      "MSE Total Pinjaman: 12764476793.42207\n"
     ]
    }
   ],
   "source": [
    "from sklearn.ensemble import RandomForestRegressor\n",
    "from sklearn.metrics import mean_squared_error\n",
    "\n",
    "reg_total = RandomForestRegressor()\n",
    "reg_total.fit(X_train, y_train_total)\n",
    "y_pred_total = reg_total.predict(X_test)\n",
    "print(\"MSE Total Pinjaman:\", mean_squared_error(y_test_total, y_pred_total))\n"
   ]
  },
  {
   "cell_type": "markdown",
   "id": "8f2a8982",
   "metadata": {},
   "source": [
    "##### Regression Model (LAMA PINJAMAN)"
   ]
  },
  {
   "cell_type": "code",
   "execution_count": 6,
   "id": "4da3ec8a",
   "metadata": {},
   "outputs": [
    {
     "name": "stdout",
     "output_type": "stream",
     "text": [
      "MSE Lama Pinjaman: 12.069225\n"
     ]
    }
   ],
   "source": [
    "reg_lama = RandomForestRegressor()\n",
    "reg_lama.fit(X_train, y_train_lama)\n",
    "y_pred_lama = reg_lama.predict(X_test)\n",
    "print(\"MSE Lama Pinjaman:\", mean_squared_error(y_test_lama, y_pred_lama))\n"
   ]
  },
  {
   "cell_type": "markdown",
   "id": "eb30e3b9",
   "metadata": {},
   "source": [
    "##### Save Models"
   ]
  },
  {
   "cell_type": "code",
   "execution_count": 10,
   "id": "6a7a85da",
   "metadata": {},
   "outputs": [
    {
     "data": {
      "text/plain": [
       "['model_lama_pinjaman.pkl']"
      ]
     },
     "execution_count": 10,
     "metadata": {},
     "output_type": "execute_result"
    }
   ],
   "source": [
    "import joblib\n",
    "\n",
    "joblib.dump(clf, \"model_kemampuan_bayar.pkl\")\n",
    "joblib.dump(reg_total, \"model_total_disetujui.pkl\")\n",
    "joblib.dump(reg_lama, \"model_lama_pinjaman.pkl\")\n"
   ]
  }
 ],
 "metadata": {
  "kernelspec": {
   "display_name": "Python 3",
   "language": "python",
   "name": "python3"
  },
  "language_info": {
   "codemirror_mode": {
    "name": "ipython",
    "version": 3
   },
   "file_extension": ".py",
   "mimetype": "text/x-python",
   "name": "python",
   "nbconvert_exporter": "python",
   "pygments_lexer": "ipython3",
   "version": "3.12.3"
  }
 },
 "nbformat": 4,
 "nbformat_minor": 5
}
